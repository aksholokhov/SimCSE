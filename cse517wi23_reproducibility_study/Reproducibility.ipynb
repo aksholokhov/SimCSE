{
 "cells": [
  {
   "cell_type": "code",
   "execution_count": 126,
   "id": "18939441",
   "metadata": {},
   "outputs": [],
   "source": [
    "import os\n",
    "import sys\n",
    "os.environ[\"MODEL_DIR\"] = '../model'\n",
    "from pathlib import Path\n",
    "import pandas as pd\n",
    "from datasets import load_dataset, Dataset\n",
    "from tqdm.notebook import tqdm\n",
    "import nlpaug.augmenter.word as naw\n",
    "import numpy as np\n",
    "from simcse import SimCSE\n",
    "import torch\n",
    "from matplotlib import pyplot as plt"
   ]
  },
  {
   "cell_type": "code",
   "execution_count": 82,
   "id": "80e07896",
   "metadata": {},
   "outputs": [
    {
     "name": "stdout",
     "output_type": "stream",
     "text": [
      "huggingface/tokenizers: The current process just got forked, after parallelism has already been used. Disabling parallelism to avoid deadlocks...\n",
      "To disable this warning, you can either:\n",
      "\t- Avoid using `tokenizers` before the fork if possible\n",
      "\t- Explicitly set the environment variable TOKENIZERS_PARALLELISM=(true | false)\n",
      "csv\t\t    wiki1m_for_simcse.txt  wiki_delete_one_word.csv\r\n",
      "download_nli.sh     wiki_cropping_0.1.csv  wiki_synonym_replacement.csv\r\n",
      "download_wiki.sh    wiki_cropping_0.1.txt  wiki_word_deletion_0.1.csv\r\n",
      "nli_for_simcse.csv  wiki_cropping_0.2.csv  wiki_word_deletion_0.2.csv\r\n",
      "text\t\t    wiki_cropping_0.3.csv  wiki_word_deletion_0.3.csv\r\n"
     ]
    }
   ],
   "source": [
    "!ls ../data/"
   ]
  },
  {
   "cell_type": "code",
   "execution_count": 112,
   "id": "08846975",
   "metadata": {},
   "outputs": [
    {
     "name": "stderr",
     "output_type": "stream",
     "text": [
      "03/05/2023 12:09:19 - WARNING - datasets.builder -   Using custom data configuration default-e985b51e47473734\n",
      "03/05/2023 12:09:19 - WARNING - datasets.builder -   Found cached dataset text (/home/aksh/SimCSE/cse517wi23_reproducibility_study/../data/text/default-e985b51e47473734/0.0.0/cb1e9bd71a82ad27976be3b12b407850fe2837d80c22c5e03a28949843a8ace2)\n"
     ]
    },
    {
     "data": {
      "application/vnd.jupyter.widget-view+json": {
       "model_id": "c3cc78c8f63c4ec5a84721fba1fe0cac",
       "version_major": 2,
       "version_minor": 0
      },
      "text/plain": [
       "  0%|          | 0/1 [00:00<?, ?it/s]"
      ]
     },
     "metadata": {},
     "output_type": "display_data"
    }
   ],
   "source": [
    "data_folder = Path('../data/').resolve()\n",
    "data_files = {\n",
    "    \"train\": str(data_folder / \"wiki1m_for_simcse.txt\")\n",
    "}\n",
    "extension = \"text\"\n",
    "\n",
    "wiki_dataset = load_dataset(extension, data_files=data_files, cache_dir=\"../data/\")"
   ]
  },
  {
   "cell_type": "code",
   "execution_count": 113,
   "id": "6c7e705a",
   "metadata": {},
   "outputs": [
    {
     "data": {
      "application/vnd.jupyter.widget-view+json": {
       "model_id": "c3e9ee6947dd423bb01649818437fa74",
       "version_major": 2,
       "version_minor": 0
      },
      "text/plain": [
       "cropping:   0%|          | 0/1000000 [00:00<?, ?it/s]"
      ]
     },
     "metadata": {},
     "output_type": "display_data"
    },
    {
     "data": {
      "application/vnd.jupyter.widget-view+json": {
       "model_id": "a02d3219a93042269617bd4137ad2eaf",
       "version_major": 2,
       "version_minor": 0
      },
      "text/plain": [
       "Creating CSV from Arrow format:   0%|          | 0/1000 [00:00<?, ?ba/s]"
      ]
     },
     "metadata": {},
     "output_type": "display_data"
    },
    {
     "data": {
      "application/vnd.jupyter.widget-view+json": {
       "model_id": "efc949c770d04b0f8237c007e9f37c67",
       "version_major": 2,
       "version_minor": 0
      },
      "text/plain": [
       "cropping:   0%|          | 0/1000000 [00:00<?, ?it/s]"
      ]
     },
     "metadata": {},
     "output_type": "display_data"
    },
    {
     "data": {
      "application/vnd.jupyter.widget-view+json": {
       "model_id": "8d2a67995ecc44cca94ad527316cdb0a",
       "version_major": 2,
       "version_minor": 0
      },
      "text/plain": [
       "Creating CSV from Arrow format:   0%|          | 0/1000 [00:00<?, ?ba/s]"
      ]
     },
     "metadata": {},
     "output_type": "display_data"
    },
    {
     "data": {
      "application/vnd.jupyter.widget-view+json": {
       "model_id": "b157156894c54f0b85a29c267b2d0e40",
       "version_major": 2,
       "version_minor": 0
      },
      "text/plain": [
       "cropping:   0%|          | 0/1000000 [00:00<?, ?it/s]"
      ]
     },
     "metadata": {},
     "output_type": "display_data"
    },
    {
     "data": {
      "application/vnd.jupyter.widget-view+json": {
       "model_id": "67efde87136d4fc681b4acdfb2667a66",
       "version_major": 2,
       "version_minor": 0
      },
      "text/plain": [
       "Creating CSV from Arrow format:   0%|          | 0/1000 [00:00<?, ?ba/s]"
      ]
     },
     "metadata": {},
     "output_type": "display_data"
    }
   ],
   "source": [
    "aug = naw.SynonymAug(aug_src='wordnet')\n",
    "rnd = np.random.default_rng(42)\n",
    "\n",
    "\n",
    "def crop_sentence(sentence, fraction=0.1):\n",
    "    return sentence[:int((1-fraction)*len(sentence))]\n",
    "\n",
    "def delete_words(sentence, fraction=0.1):\n",
    "    words = sentence.split(\" \")\n",
    "    n_words = len(words)\n",
    "    n_words_to_keep = int((1 - fraction)*len(words))\n",
    "    ids = sorted(rnd.choice(range(n_words), n_words_to_keep, replace=False))\n",
    "    return \" \".join([words[i] for i in ids])\n",
    "\n",
    "def delete_one_word(sentence):\n",
    "    words = sentence.split(\" \")\n",
    "    idx_delete = rnd.integers(len(words))\n",
    "    del words[idx_delete]\n",
    "    return ' '.join(words)\n",
    "\n",
    "def replace_a_word_with_synonym(sentence):\n",
    "    return aug.augment(sentence)\n",
    "    \n",
    "for augmentation, kwargs in [\n",
    "    (\"cropping\", {\"fraction\": 0.1}),\n",
    "    (\"cropping\", {\"fraction\": 0.2}),\n",
    "    (\"cropping\", {\"fraction\": 0.3}),\n",
    "#     (\"word_deletion\", {\"fraction\": 0.1}),\n",
    "#     (\"word_deletion\", {\"fraction\": 0.2}),\n",
    "#     (\"word_deletion\", {\"fraction\": 0.3}),\n",
    "#     (\"delete_one_word\", {}),\n",
    "#     (\"synonym_replacement\", {})\n",
    "]:\n",
    "    sent1 = []\n",
    "    sent2 = []\n",
    "    for idx, sentence in enumerate(tqdm(wiki_dataset['train'], desc=f'{augmentation}')):\n",
    "        if augmentation == \"cropping\":\n",
    "            new_sentence = crop_sentence(sentence['text'], **kwargs)\n",
    "        elif augmentation == \"word_deletion\":\n",
    "            new_sentence = delete_words(sentence['text'], **kwargs)\n",
    "        elif augmentation == \"delete_one_word\":\n",
    "            new_sentence = delete_one_word(sentence['text'], **kwargs)\n",
    "        elif augmentation == \"synonym_replacement\":\n",
    "            new_sentence = replace_a_word_with_synonym(sentence['text'], **kwargs)[0]\n",
    "        else:\n",
    "            raise NotImplementedError(f\"Unknown augmentation: {augmentation}\")\n",
    "        sent1.append(sentence['text'])\n",
    "        sent2.append(new_sentence)\n",
    "    new_dataset = Dataset.from_dict({'sent1': sent1, 'sent2': sent2})\n",
    "    suffix = f'_{kwargs[\"fraction\"]}' if \"fraction\" in kwargs else \"\"\n",
    "    new_dataset.to_csv(data_folder / f'wiki_{augmentation}{suffix}.csv', index=False)"
   ]
  },
  {
   "cell_type": "code",
   "execution_count": 121,
   "id": "82652ecd",
   "metadata": {},
   "outputs": [
    {
     "name": "stderr",
     "output_type": "stream",
     "text": [
      "03/06/2023 09:13:39 - WARNING - datasets.builder -   Using custom data configuration default-9ebaf222e0a0f84f\n",
      "03/06/2023 09:13:39 - WARNING - datasets.builder -   Found cached dataset csv (/home/aksh/SimCSE/cse517wi23_reproducibility_study/../data/csv/default-9ebaf222e0a0f84f/0.0.0/6b34fb8fcf56f7c8ba51dc895bfa2bfbe43546f190a60fcf74bb5e8afdcc2317)\n"
     ]
    },
    {
     "data": {
      "application/vnd.jupyter.widget-view+json": {
       "model_id": "5d884a53fa91449b870e8988f4ce7188",
       "version_major": 2,
       "version_minor": 0
      },
      "text/plain": [
       "  0%|          | 0/1 [00:00<?, ?it/s]"
      ]
     },
     "metadata": {},
     "output_type": "display_data"
    }
   ],
   "source": [
    "data_folder = Path('../data/').resolve()\n",
    "data_files = {\n",
    "    \"train\": str(data_folder / \"wiki_cropping_0.1.csv\")\n",
    "}\n",
    "extension = \"csv\"\n",
    "\n",
    "wiki_dataset = load_dataset(extension, data_files=data_files, cache_dir=\"../data/\")"
   ]
  },
  {
   "cell_type": "markdown",
   "id": "d1c98001",
   "metadata": {},
   "source": [
    "## Alignment and uniformity"
   ]
  },
  {
   "cell_type": "code",
   "execution_count": 15,
   "id": "1deb1113",
   "metadata": {},
   "outputs": [],
   "source": [
    "from senteval.sts import STSBenchmarkEval"
   ]
  },
  {
   "cell_type": "code",
   "execution_count": 68,
   "id": "f2ce1bfb",
   "metadata": {},
   "outputs": [],
   "source": [
    "sts_b_path = Path(\"../SentEval/data/downstream/STS/STSBenchmark/\")\n",
    "sts_b_dataset = STSBenchmarkEval(sts_b_path)\n",
    "sufficiently_close_sent1 = []\n",
    "sufficiently_close_sent2 = []\n",
    "all_sentences_1 = []\n",
    "all_sentences_2 = []\n",
    "gs_scores = []\n",
    "for dataset in ['train', 'dev', 'test']:\n",
    "    for sent1, sent2, score in zip(*sts_b_dataset.data[dataset]):\n",
    "        if score > 4:\n",
    "            sufficiently_close_sent1.append(\" \".join(sent1))\n",
    "            sufficiently_close_sent2.append(\" \".join(sent2))\n",
    "        all_sentences_1.append(\" \".join(sent1))\n",
    "        all_sentences_2.append(\" \".join(sent2))\n",
    "        gs_scores.append(score)"
   ]
  },
  {
   "cell_type": "code",
   "execution_count": 69,
   "id": "385fda08",
   "metadata": {},
   "outputs": [],
   "source": [
    "# def aligment(embeddings_1, embeddings_2): \n",
    "#     return torch.mean(torch.sum(torch.square(embeddings_1 - embeddings_2), dim=-1)).item()\n",
    "\n",
    "# def uniformity(embeddings_1, embeddings_2):\n",
    "#     return torch.log(torch.mean(torch.exp(-2*torch.sum(torch.square(embeddings_1 - embeddings_2), dim=-1)))).item()\n",
    "\n",
    "def _norm(x, eps=1e-8): \n",
    "    xnorm = torch.linalg.norm(x, dim=-1)\n",
    "    xnorm = torch.max(xnorm, torch.ones_like(xnorm) * eps)\n",
    "    return x / xnorm.unsqueeze(dim=-1)\n",
    "\n",
    "# from Wang and Isola (with a bit of modification)\n",
    "# only consider pairs with gs > 4 (from footnote 3)\n",
    "def _lalign(x, y, ok, alpha=2):\n",
    "    return ((_norm(x) - _norm(y)).norm(dim=1).pow(alpha) * ok).sum() / ok.sum()\n",
    "\n",
    "def _lunif(x, t=2):\n",
    "    sq_pdist = torch.pdist(_norm(x), p=2).pow(2)\n",
    "    return sq_pdist.mul(-t).exp().mean().log()"
   ]
  },
  {
   "cell_type": "code",
   "execution_count": 60,
   "id": "e9fe6999",
   "metadata": {},
   "outputs": [
    {
     "name": "stdout",
     "output_type": "stream",
     "text": [
      "huggingface/tokenizers: The current process just got forked, after parallelism has already been used. Disabling parallelism to avoid deadlocks...\n",
      "To disable this warning, you can either:\n",
      "\t- Avoid using `tokenizers` before the fork if possible\n",
      "\t- Explicitly set the environment variable TOKENIZERS_PARALLELISM=(true | false)\n",
      "delete_one_word\t\t\t   wiki_cropping_0.1  wiki_word_deletion_0.1\r\n",
      "my-unsup-simcse-bert-base-uncased  wiki_cropping_0.2  wiki_word_deletion_0.2\r\n",
      "synonym_replacement\t\t   wiki_cropping_0.3  wiki_word_deletion_0.3\r\n"
     ]
    }
   ],
   "source": [
    "!ls ../result/"
   ]
  },
  {
   "cell_type": "code",
   "execution_count": 145,
   "id": "8eb3d4aa",
   "metadata": {},
   "outputs": [
    {
     "name": "stderr",
     "output_type": "stream",
     "text": [
      "Some weights of BertModel were not initialized from the model checkpoint at ../result/bert_base_checkpoint_10 and are newly initialized: ['bert.pooler.dense.weight', 'bert.pooler.dense.bias']\n",
      "You should probably TRAIN this model on a down-stream task to be able to use it for predictions and inference.\n",
      "100%|██████████████████████████████████████████████████████████████████████████████| 135/135 [00:07<00:00, 17.11it/s]\n",
      "100%|██████████████████████████████████████████████████████████████████████████████| 135/135 [00:07<00:00, 17.22it/s]\n"
     ]
    },
    {
     "name": "stdout",
     "output_type": "stream",
     "text": [
      "bert_base_10: align 0.30045995116233826\t\t uniform -1.9341658353805542\n"
     ]
    },
    {
     "name": "stderr",
     "output_type": "stream",
     "text": [
      "Some weights of BertModel were not initialized from the model checkpoint at ../result/bert_base_checkpoint_20 and are newly initialized: ['bert.pooler.dense.weight', 'bert.pooler.dense.bias']\n",
      "You should probably TRAIN this model on a down-stream task to be able to use it for predictions and inference.\n",
      "100%|██████████████████████████████████████████████████████████████████████████████| 135/135 [00:07<00:00, 16.90it/s]\n",
      "100%|██████████████████████████████████████████████████████████████████████████████| 135/135 [00:10<00:00, 12.71it/s]\n"
     ]
    },
    {
     "name": "stdout",
     "output_type": "stream",
     "text": [
      "bert_base_20: align 0.3413792848587036\t\t uniform -2.2493622303009033\n"
     ]
    },
    {
     "name": "stderr",
     "output_type": "stream",
     "text": [
      "Some weights of BertModel were not initialized from the model checkpoint at ../result/bert_base_checkpoint_30 and are newly initialized: ['bert.pooler.dense.weight', 'bert.pooler.dense.bias']\n",
      "You should probably TRAIN this model on a down-stream task to be able to use it for predictions and inference.\n",
      "100%|██████████████████████████████████████████████████████████████████████████████| 135/135 [00:22<00:00,  5.91it/s]\n",
      "100%|██████████████████████████████████████████████████████████████████████████████| 135/135 [00:38<00:00,  3.55it/s]\n"
     ]
    },
    {
     "name": "stdout",
     "output_type": "stream",
     "text": [
      "bert_base_30: align 0.3608027696609497\t\t uniform -2.38450026512146\n"
     ]
    },
    {
     "name": "stderr",
     "output_type": "stream",
     "text": [
      "Some weights of BertModel were not initialized from the model checkpoint at ../result/bert_base_checkpoint_40 and are newly initialized: ['bert.pooler.dense.weight', 'bert.pooler.dense.bias']\n",
      "You should probably TRAIN this model on a down-stream task to be able to use it for predictions and inference.\n",
      "100%|██████████████████████████████████████████████████████████████████████████████| 135/135 [00:55<00:00,  2.45it/s]\n",
      "100%|██████████████████████████████████████████████████████████████████████████████| 135/135 [00:53<00:00,  2.52it/s]\n"
     ]
    },
    {
     "name": "stdout",
     "output_type": "stream",
     "text": [
      "bert_base_40: align 0.3743783235549927\t\t uniform -2.4524154663085938\n"
     ]
    },
    {
     "name": "stderr",
     "output_type": "stream",
     "text": [
      "Some weights of BertModel were not initialized from the model checkpoint at ../result/bert_base_checkpoint_50 and are newly initialized: ['bert.pooler.dense.weight', 'bert.pooler.dense.bias']\n",
      "You should probably TRAIN this model on a down-stream task to be able to use it for predictions and inference.\n",
      "100%|██████████████████████████████████████████████████████████████████████████████| 135/135 [00:46<00:00,  2.92it/s]\n",
      "100%|██████████████████████████████████████████████████████████████████████████████| 135/135 [00:38<00:00,  3.52it/s]\n"
     ]
    },
    {
     "name": "stdout",
     "output_type": "stream",
     "text": [
      "bert_base_50: align 0.38631659746170044\t\t uniform -2.4857938289642334\n"
     ]
    },
    {
     "name": "stderr",
     "output_type": "stream",
     "text": [
      "Some weights of BertModel were not initialized from the model checkpoint at ../result/bert_base_checkpoint_60 and are newly initialized: ['bert.pooler.dense.weight', 'bert.pooler.dense.bias']\n",
      "You should probably TRAIN this model on a down-stream task to be able to use it for predictions and inference.\n",
      "100%|██████████████████████████████████████████████████████████████████████████████| 135/135 [00:28<00:00,  4.77it/s]\n",
      "100%|██████████████████████████████████████████████████████████████████████████████| 135/135 [00:30<00:00,  4.40it/s]\n"
     ]
    },
    {
     "name": "stdout",
     "output_type": "stream",
     "text": [
      "bert_base_60: align 0.37436553835868835\t\t uniform -2.405972719192505\n"
     ]
    },
    {
     "name": "stderr",
     "output_type": "stream",
     "text": [
      "Some weights of BertModel were not initialized from the model checkpoint at ../result/bert_base_checkpoint_70 and are newly initialized: ['bert.pooler.dense.weight', 'bert.pooler.dense.bias']\n",
      "You should probably TRAIN this model on a down-stream task to be able to use it for predictions and inference.\n",
      "100%|██████████████████████████████████████████████████████████████████████████████| 135/135 [00:25<00:00,  5.22it/s]\n",
      "100%|██████████████████████████████████████████████████████████████████████████████| 135/135 [00:19<00:00,  6.91it/s]\n"
     ]
    },
    {
     "name": "stdout",
     "output_type": "stream",
     "text": [
      "bert_base_70: align 0.3859829306602478\t\t uniform -2.4623911380767822\n"
     ]
    },
    {
     "name": "stderr",
     "output_type": "stream",
     "text": [
      "Some weights of BertModel were not initialized from the model checkpoint at ../result/bert_base_checkpoint_80 and are newly initialized: ['bert.pooler.dense.weight', 'bert.pooler.dense.bias']\n",
      "You should probably TRAIN this model on a down-stream task to be able to use it for predictions and inference.\n",
      "100%|██████████████████████████████████████████████████████████████████████████████| 135/135 [00:25<00:00,  5.32it/s]\n",
      "100%|██████████████████████████████████████████████████████████████████████████████| 135/135 [00:18<00:00,  7.44it/s]\n"
     ]
    },
    {
     "name": "stdout",
     "output_type": "stream",
     "text": [
      "bert_base_80: align 0.3866870105266571\t\t uniform -2.42798113822937\n"
     ]
    },
    {
     "name": "stderr",
     "output_type": "stream",
     "text": [
      "Some weights of BertModel were not initialized from the model checkpoint at ../result/bert_base_checkpoint_90 and are newly initialized: ['bert.pooler.dense.weight', 'bert.pooler.dense.bias']\n",
      "You should probably TRAIN this model on a down-stream task to be able to use it for predictions and inference.\n",
      "100%|██████████████████████████████████████████████████████████████████████████████| 135/135 [00:18<00:00,  7.25it/s]\n",
      "100%|██████████████████████████████████████████████████████████████████████████████| 135/135 [00:17<00:00,  7.55it/s]\n"
     ]
    },
    {
     "name": "stdout",
     "output_type": "stream",
     "text": [
      "bert_base_90: align 0.39572224020957947\t\t uniform -2.4781219959259033\n"
     ]
    },
    {
     "name": "stderr",
     "output_type": "stream",
     "text": [
      "Some weights of BertModel were not initialized from the model checkpoint at ../result/bert_base_checkpoint_100 and are newly initialized: ['bert.pooler.dense.weight', 'bert.pooler.dense.bias']\n",
      "You should probably TRAIN this model on a down-stream task to be able to use it for predictions and inference.\n",
      "100%|██████████████████████████████████████████████████████████████████████████████| 135/135 [00:09<00:00, 14.50it/s]\n",
      "100%|██████████████████████████████████████████████████████████████████████████████| 135/135 [00:08<00:00, 16.37it/s]\n"
     ]
    },
    {
     "name": "stdout",
     "output_type": "stream",
     "text": [
      "bert_base_100: align 0.40214478969573975\t\t uniform -2.466568946838379\n"
     ]
    },
    {
     "name": "stderr",
     "output_type": "stream",
     "text": [
      "Some weights of BertModel were not initialized from the model checkpoint at ../result/bert_base and are newly initialized: ['bert.pooler.dense.weight', 'bert.pooler.dense.bias']\n",
      "You should probably TRAIN this model on a down-stream task to be able to use it for predictions and inference.\n",
      "100%|██████████████████████████████████████████████████████████████████████████████| 135/135 [00:08<00:00, 16.19it/s]\n",
      "100%|██████████████████████████████████████████████████████████████████████████████| 135/135 [00:07<00:00, 16.90it/s]\n"
     ]
    },
    {
     "name": "stdout",
     "output_type": "stream",
     "text": [
      "bert_base: align 0.19737856090068817\t\t uniform -2.438185691833496\n"
     ]
    },
    {
     "name": "stderr",
     "output_type": "stream",
     "text": [
      "Some weights of BertModel were not initialized from the model checkpoint at ../result/delete_one_word_checkpoint_10 and are newly initialized: ['bert.pooler.dense.weight', 'bert.pooler.dense.bias']\n",
      "You should probably TRAIN this model on a down-stream task to be able to use it for predictions and inference.\n",
      "100%|██████████████████████████████████████████████████████████████████████████████| 135/135 [00:08<00:00, 16.48it/s]\n",
      "100%|██████████████████████████████████████████████████████████████████████████████| 135/135 [00:08<00:00, 16.84it/s]\n"
     ]
    },
    {
     "name": "stdout",
     "output_type": "stream",
     "text": [
      "delete_one_word_10: align 0.2721129357814789\t\t uniform -1.8869006633758545\n"
     ]
    },
    {
     "name": "stderr",
     "output_type": "stream",
     "text": [
      "Some weights of BertModel were not initialized from the model checkpoint at ../result/delete_one_word_checkpoint_20 and are newly initialized: ['bert.pooler.dense.weight', 'bert.pooler.dense.bias']\n",
      "You should probably TRAIN this model on a down-stream task to be able to use it for predictions and inference.\n",
      "100%|██████████████████████████████████████████████████████████████████████████████| 135/135 [00:08<00:00, 16.43it/s]\n",
      "100%|██████████████████████████████████████████████████████████████████████████████| 135/135 [00:08<00:00, 16.82it/s]\n"
     ]
    },
    {
     "name": "stdout",
     "output_type": "stream",
     "text": [
      "delete_one_word_20: align 0.2717128098011017\t\t uniform -2.0817840099334717\n"
     ]
    },
    {
     "name": "stderr",
     "output_type": "stream",
     "text": [
      "Some weights of BertModel were not initialized from the model checkpoint at ../result/delete_one_word_checkpoint_30 and are newly initialized: ['bert.pooler.dense.weight', 'bert.pooler.dense.bias']\n",
      "You should probably TRAIN this model on a down-stream task to be able to use it for predictions and inference.\n",
      "100%|██████████████████████████████████████████████████████████████████████████████| 135/135 [00:08<00:00, 16.64it/s]\n",
      "100%|██████████████████████████████████████████████████████████████████████████████| 135/135 [00:08<00:00, 16.82it/s]\n"
     ]
    },
    {
     "name": "stdout",
     "output_type": "stream",
     "text": [
      "delete_one_word_30: align 0.2788313627243042\t\t uniform -2.2426300048828125\n"
     ]
    },
    {
     "name": "stderr",
     "output_type": "stream",
     "text": [
      "Some weights of BertModel were not initialized from the model checkpoint at ../result/delete_one_word_checkpoint_40 and are newly initialized: ['bert.pooler.dense.weight', 'bert.pooler.dense.bias']\n",
      "You should probably TRAIN this model on a down-stream task to be able to use it for predictions and inference.\n",
      "100%|██████████████████████████████████████████████████████████████████████████████| 135/135 [00:08<00:00, 16.56it/s]\n",
      "100%|██████████████████████████████████████████████████████████████████████████████| 135/135 [00:08<00:00, 16.50it/s]\n"
     ]
    },
    {
     "name": "stdout",
     "output_type": "stream",
     "text": [
      "delete_one_word_40: align 0.2817235589027405\t\t uniform -2.2661938667297363\n"
     ]
    },
    {
     "name": "stderr",
     "output_type": "stream",
     "text": [
      "Some weights of BertModel were not initialized from the model checkpoint at ../result/delete_one_word_checkpoint_50 and are newly initialized: ['bert.pooler.dense.weight', 'bert.pooler.dense.bias']\n",
      "You should probably TRAIN this model on a down-stream task to be able to use it for predictions and inference.\n",
      "100%|██████████████████████████████████████████████████████████████████████████████| 135/135 [00:08<00:00, 16.58it/s]\n",
      "100%|██████████████████████████████████████████████████████████████████████████████| 135/135 [00:08<00:00, 16.71it/s]\n"
     ]
    },
    {
     "name": "stdout",
     "output_type": "stream",
     "text": [
      "delete_one_word_50: align 0.2781468331813812\t\t uniform -2.248033285140991\n"
     ]
    },
    {
     "name": "stderr",
     "output_type": "stream",
     "text": [
      "Some weights of BertModel were not initialized from the model checkpoint at ../result/delete_one_word_checkpoint_60 and are newly initialized: ['bert.pooler.dense.weight', 'bert.pooler.dense.bias']\n",
      "You should probably TRAIN this model on a down-stream task to be able to use it for predictions and inference.\n",
      "100%|██████████████████████████████████████████████████████████████████████████████| 135/135 [00:08<00:00, 16.13it/s]\n",
      "100%|██████████████████████████████████████████████████████████████████████████████| 135/135 [00:08<00:00, 16.70it/s]\n"
     ]
    },
    {
     "name": "stdout",
     "output_type": "stream",
     "text": [
      "delete_one_word_60: align 0.2787700593471527\t\t uniform -2.3176896572113037\n"
     ]
    },
    {
     "name": "stderr",
     "output_type": "stream",
     "text": [
      "Some weights of BertModel were not initialized from the model checkpoint at ../result/delete_one_word_checkpoint_70 and are newly initialized: ['bert.pooler.dense.weight', 'bert.pooler.dense.bias']\n",
      "You should probably TRAIN this model on a down-stream task to be able to use it for predictions and inference.\n",
      "100%|██████████████████████████████████████████████████████████████████████████████| 135/135 [00:08<00:00, 16.41it/s]\n",
      "100%|██████████████████████████████████████████████████████████████████████████████| 135/135 [00:08<00:00, 16.46it/s]\n"
     ]
    },
    {
     "name": "stdout",
     "output_type": "stream",
     "text": [
      "delete_one_word_70: align 0.27193138003349304\t\t uniform -2.3158934116363525\n"
     ]
    },
    {
     "name": "stderr",
     "output_type": "stream",
     "text": [
      "Some weights of BertModel were not initialized from the model checkpoint at ../result/delete_one_word_checkpoint_80 and are newly initialized: ['bert.pooler.dense.weight', 'bert.pooler.dense.bias']\n",
      "You should probably TRAIN this model on a down-stream task to be able to use it for predictions and inference.\n",
      "100%|██████████████████████████████████████████████████████████████████████████████| 135/135 [00:08<00:00, 16.59it/s]\n",
      "100%|██████████████████████████████████████████████████████████████████████████████| 135/135 [00:08<00:00, 16.83it/s]\n"
     ]
    },
    {
     "name": "stdout",
     "output_type": "stream",
     "text": [
      "delete_one_word_80: align 0.27383291721343994\t\t uniform -2.341674566268921\n"
     ]
    },
    {
     "name": "stderr",
     "output_type": "stream",
     "text": [
      "Some weights of BertModel were not initialized from the model checkpoint at ../result/delete_one_word_checkpoint_90 and are newly initialized: ['bert.pooler.dense.weight', 'bert.pooler.dense.bias']\n",
      "You should probably TRAIN this model on a down-stream task to be able to use it for predictions and inference.\n",
      "100%|██████████████████████████████████████████████████████████████████████████████| 135/135 [00:08<00:00, 16.33it/s]\n",
      "100%|██████████████████████████████████████████████████████████████████████████████| 135/135 [00:08<00:00, 16.30it/s]\n"
     ]
    },
    {
     "name": "stdout",
     "output_type": "stream",
     "text": [
      "delete_one_word_90: align 0.2731863856315613\t\t uniform -2.3693246841430664\n"
     ]
    },
    {
     "name": "stderr",
     "output_type": "stream",
     "text": [
      "Some weights of BertModel were not initialized from the model checkpoint at ../result/delete_one_word_checkpoint_100 and are newly initialized: ['bert.pooler.dense.weight', 'bert.pooler.dense.bias']\n",
      "You should probably TRAIN this model on a down-stream task to be able to use it for predictions and inference.\n",
      "100%|██████████████████████████████████████████████████████████████████████████████| 135/135 [00:08<00:00, 16.41it/s]\n",
      "100%|██████████████████████████████████████████████████████████████████████████████| 135/135 [00:08<00:00, 16.72it/s]\n"
     ]
    },
    {
     "name": "stdout",
     "output_type": "stream",
     "text": [
      "delete_one_word_100: align 0.27926188707351685\t\t uniform -2.4424688816070557\n"
     ]
    },
    {
     "name": "stderr",
     "output_type": "stream",
     "text": [
      "Some weights of BertModel were not initialized from the model checkpoint at ../result/delete_one_word and are newly initialized: ['bert.pooler.dense.weight', 'bert.pooler.dense.bias']\n",
      "You should probably TRAIN this model on a down-stream task to be able to use it for predictions and inference.\n",
      "100%|██████████████████████████████████████████████████████████████████████████████| 135/135 [00:08<00:00, 16.61it/s]\n",
      "100%|██████████████████████████████████████████████████████████████████████████████| 135/135 [00:08<00:00, 16.57it/s]\n"
     ]
    },
    {
     "name": "stdout",
     "output_type": "stream",
     "text": [
      "delete_one_word: align 0.21069301664829254\t\t uniform -2.4002647399902344\n"
     ]
    },
    {
     "name": "stderr",
     "output_type": "stream",
     "text": [
      "Some weights of BertModel were not initialized from the model checkpoint at ../result/synonym_replacement and are newly initialized: ['bert.pooler.dense.weight', 'bert.pooler.dense.bias']\n",
      "You should probably TRAIN this model on a down-stream task to be able to use it for predictions and inference.\n",
      "100%|██████████████████████████████████████████████████████████████████████████████| 135/135 [00:08<00:00, 16.01it/s]\n",
      "100%|██████████████████████████████████████████████████████████████████████████████| 135/135 [00:08<00:00, 16.42it/s]\n"
     ]
    },
    {
     "name": "stdout",
     "output_type": "stream",
     "text": [
      "synonym_replacement: align 0.1837439090013504\t\t uniform -2.0674495697021484\n"
     ]
    },
    {
     "name": "stderr",
     "output_type": "stream",
     "text": [
      "Some weights of BertModel were not initialized from the model checkpoint at ../result/dropout_0_checkpoint_10 and are newly initialized: ['bert.pooler.dense.weight', 'bert.pooler.dense.bias']\n",
      "You should probably TRAIN this model on a down-stream task to be able to use it for predictions and inference.\n",
      "100%|██████████████████████████████████████████████████████████████████████████████| 135/135 [00:08<00:00, 16.53it/s]\n",
      "100%|██████████████████████████████████████████████████████████████████████████████| 135/135 [00:07<00:00, 16.92it/s]\n"
     ]
    },
    {
     "name": "stdout",
     "output_type": "stream",
     "text": [
      "dropout_0_10: align 0.32398778200149536\t\t uniform -2.043882131576538\n"
     ]
    },
    {
     "name": "stderr",
     "output_type": "stream",
     "text": [
      "Some weights of BertModel were not initialized from the model checkpoint at ../result/dropout_0_checkpoint_20 and are newly initialized: ['bert.pooler.dense.weight', 'bert.pooler.dense.bias']\n",
      "You should probably TRAIN this model on a down-stream task to be able to use it for predictions and inference.\n",
      "100%|██████████████████████████████████████████████████████████████████████████████| 135/135 [00:08<00:00, 16.26it/s]\n",
      "100%|██████████████████████████████████████████████████████████████████████████████| 135/135 [00:08<00:00, 16.41it/s]\n"
     ]
    },
    {
     "name": "stdout",
     "output_type": "stream",
     "text": [
      "dropout_0_20: align 0.3414458632469177\t\t uniform -2.1680679321289062\n"
     ]
    },
    {
     "name": "stderr",
     "output_type": "stream",
     "text": [
      "Some weights of BertModel were not initialized from the model checkpoint at ../result/dropout_0_checkpoint_30 and are newly initialized: ['bert.pooler.dense.weight', 'bert.pooler.dense.bias']\n",
      "You should probably TRAIN this model on a down-stream task to be able to use it for predictions and inference.\n",
      "100%|██████████████████████████████████████████████████████████████████████████████| 135/135 [00:08<00:00, 16.34it/s]\n",
      "100%|██████████████████████████████████████████████████████████████████████████████| 135/135 [00:07<00:00, 16.90it/s]\n"
     ]
    },
    {
     "name": "stdout",
     "output_type": "stream",
     "text": [
      "dropout_0_30: align 0.3675611615180969\t\t uniform -2.2935519218444824\n"
     ]
    },
    {
     "name": "stderr",
     "output_type": "stream",
     "text": [
      "Some weights of BertModel were not initialized from the model checkpoint at ../result/dropout_0_checkpoint_40 and are newly initialized: ['bert.pooler.dense.weight', 'bert.pooler.dense.bias']\n",
      "You should probably TRAIN this model on a down-stream task to be able to use it for predictions and inference.\n",
      "100%|██████████████████████████████████████████████████████████████████████████████| 135/135 [00:08<00:00, 16.24it/s]\n",
      "100%|██████████████████████████████████████████████████████████████████████████████| 135/135 [00:08<00:00, 16.86it/s]\n"
     ]
    },
    {
     "name": "stdout",
     "output_type": "stream",
     "text": [
      "dropout_0_40: align 0.3870692551136017\t\t uniform -2.41514253616333\n"
     ]
    },
    {
     "name": "stderr",
     "output_type": "stream",
     "text": [
      "Some weights of BertModel were not initialized from the model checkpoint at ../result/dropout_0_checkpoint_50 and are newly initialized: ['bert.pooler.dense.weight', 'bert.pooler.dense.bias']\n",
      "You should probably TRAIN this model on a down-stream task to be able to use it for predictions and inference.\n",
      "100%|██████████████████████████████████████████████████████████████████████████████| 135/135 [00:08<00:00, 16.44it/s]\n",
      "100%|██████████████████████████████████████████████████████████████████████████████| 135/135 [00:08<00:00, 16.44it/s]\n"
     ]
    },
    {
     "name": "stdout",
     "output_type": "stream",
     "text": [
      "dropout_0_50: align 0.4044138193130493\t\t uniform -2.480823040008545\n"
     ]
    },
    {
     "name": "stderr",
     "output_type": "stream",
     "text": [
      "Some weights of BertModel were not initialized from the model checkpoint at ../result/dropout_0_checkpoint_60 and are newly initialized: ['bert.pooler.dense.weight', 'bert.pooler.dense.bias']\n",
      "You should probably TRAIN this model on a down-stream task to be able to use it for predictions and inference.\n",
      "100%|██████████████████████████████████████████████████████████████████████████████| 135/135 [00:08<00:00, 16.44it/s]\n",
      "100%|██████████████████████████████████████████████████████████████████████████████| 135/135 [00:08<00:00, 16.77it/s]\n"
     ]
    },
    {
     "name": "stdout",
     "output_type": "stream",
     "text": [
      "dropout_0_60: align 0.39459657669067383\t\t uniform -2.4129207134246826\n"
     ]
    },
    {
     "name": "stderr",
     "output_type": "stream",
     "text": [
      "Some weights of BertModel were not initialized from the model checkpoint at ../result/dropout_0_checkpoint_70 and are newly initialized: ['bert.pooler.dense.weight', 'bert.pooler.dense.bias']\n",
      "You should probably TRAIN this model on a down-stream task to be able to use it for predictions and inference.\n",
      "100%|██████████████████████████████████████████████████████████████████████████████| 135/135 [00:08<00:00, 16.50it/s]\n",
      "100%|██████████████████████████████████████████████████████████████████████████████| 135/135 [00:08<00:00, 16.80it/s]\n"
     ]
    },
    {
     "name": "stdout",
     "output_type": "stream",
     "text": [
      "dropout_0_70: align 0.40107983350753784\t\t uniform -2.406446933746338\n"
     ]
    },
    {
     "name": "stderr",
     "output_type": "stream",
     "text": [
      "Some weights of BertModel were not initialized from the model checkpoint at ../result/dropout_0_checkpoint_80 and are newly initialized: ['bert.pooler.dense.weight', 'bert.pooler.dense.bias']\n",
      "You should probably TRAIN this model on a down-stream task to be able to use it for predictions and inference.\n",
      "100%|██████████████████████████████████████████████████████████████████████████████| 135/135 [00:08<00:00, 16.37it/s]\n",
      "100%|██████████████████████████████████████████████████████████████████████████████| 135/135 [00:08<00:00, 16.57it/s]\n"
     ]
    },
    {
     "name": "stdout",
     "output_type": "stream",
     "text": [
      "dropout_0_80: align 0.4073454439640045\t\t uniform -2.434098482131958\n"
     ]
    },
    {
     "name": "stderr",
     "output_type": "stream",
     "text": [
      "Some weights of BertModel were not initialized from the model checkpoint at ../result/dropout_0_checkpoint_90 and are newly initialized: ['bert.pooler.dense.weight', 'bert.pooler.dense.bias']\n",
      "You should probably TRAIN this model on a down-stream task to be able to use it for predictions and inference.\n",
      "100%|██████████████████████████████████████████████████████████████████████████████| 135/135 [00:08<00:00, 16.49it/s]\n",
      "100%|██████████████████████████████████████████████████████████████████████████████| 135/135 [00:08<00:00, 16.72it/s]\n"
     ]
    },
    {
     "name": "stdout",
     "output_type": "stream",
     "text": [
      "dropout_0_90: align 0.3900030553340912\t\t uniform -2.34834361076355\n"
     ]
    },
    {
     "name": "stderr",
     "output_type": "stream",
     "text": [
      "Some weights of BertModel were not initialized from the model checkpoint at ../result/dropout_0_checkpoint_100 and are newly initialized: ['bert.pooler.dense.weight', 'bert.pooler.dense.bias']\n",
      "You should probably TRAIN this model on a down-stream task to be able to use it for predictions and inference.\n",
      "100%|██████████████████████████████████████████████████████████████████████████████| 135/135 [00:08<00:00, 16.36it/s]\n",
      "100%|██████████████████████████████████████████████████████████████████████████████| 135/135 [00:08<00:00, 16.48it/s]\n"
     ]
    },
    {
     "name": "stdout",
     "output_type": "stream",
     "text": [
      "dropout_0_100: align 0.4016665518283844\t\t uniform -2.3696937561035156\n"
     ]
    },
    {
     "name": "stderr",
     "output_type": "stream",
     "text": [
      "Some weights of BertModel were not initialized from the model checkpoint at ../result/dropout_0 and are newly initialized: ['bert.pooler.dense.weight', 'bert.pooler.dense.bias']\n",
      "You should probably TRAIN this model on a down-stream task to be able to use it for predictions and inference.\n",
      "100%|██████████████████████████████████████████████████████████████████████████████| 135/135 [00:08<00:00, 16.53it/s]\n",
      "100%|██████████████████████████████████████████████████████████████████████████████| 135/135 [00:08<00:00, 16.51it/s]\n"
     ]
    },
    {
     "name": "stdout",
     "output_type": "stream",
     "text": [
      "dropout_0: align 0.4212600588798523\t\t uniform -2.6990084648132324\n"
     ]
    },
    {
     "name": "stderr",
     "output_type": "stream",
     "text": [
      "Some weights of BertModel were not initialized from the model checkpoint at ../result/wiki_cropping_0.1 and are newly initialized: ['bert.pooler.dense.weight', 'bert.pooler.dense.bias']\n",
      "You should probably TRAIN this model on a down-stream task to be able to use it for predictions and inference.\n",
      "100%|██████████████████████████████████████████████████████████████████████████████| 135/135 [00:08<00:00, 16.23it/s]\n",
      "100%|██████████████████████████████████████████████████████████████████████████████| 135/135 [00:08<00:00, 16.63it/s]\n"
     ]
    },
    {
     "name": "stdout",
     "output_type": "stream",
     "text": [
      "wiki_cropping_0.1: align 0.2649458050727844\t\t uniform -2.539599895477295\n"
     ]
    },
    {
     "name": "stderr",
     "output_type": "stream",
     "text": [
      "Some weights of BertModel were not initialized from the model checkpoint at ../result/wiki_cropping_0.2 and are newly initialized: ['bert.pooler.dense.weight', 'bert.pooler.dense.bias']\n",
      "You should probably TRAIN this model on a down-stream task to be able to use it for predictions and inference.\n",
      "100%|██████████████████████████████████████████████████████████████████████████████| 135/135 [00:08<00:00, 16.38it/s]\n",
      "100%|██████████████████████████████████████████████████████████████████████████████| 135/135 [00:08<00:00, 16.77it/s]\n"
     ]
    },
    {
     "name": "stdout",
     "output_type": "stream",
     "text": [
      "wiki_cropping_0.2: align 0.2975025773048401\t\t uniform -2.570436954498291\n"
     ]
    },
    {
     "name": "stderr",
     "output_type": "stream",
     "text": [
      "Some weights of BertModel were not initialized from the model checkpoint at ../result/wiki_cropping_0.3 and are newly initialized: ['bert.pooler.dense.weight', 'bert.pooler.dense.bias']\n",
      "You should probably TRAIN this model on a down-stream task to be able to use it for predictions and inference.\n",
      "100%|██████████████████████████████████████████████████████████████████████████████| 135/135 [00:08<00:00, 16.16it/s]\n",
      "100%|██████████████████████████████████████████████████████████████████████████████| 135/135 [00:07<00:00, 16.89it/s]\n"
     ]
    },
    {
     "name": "stdout",
     "output_type": "stream",
     "text": [
      "wiki_cropping_0.3: align 0.2915760278701782\t\t uniform -2.4595165252685547\n"
     ]
    },
    {
     "name": "stderr",
     "output_type": "stream",
     "text": [
      "Some weights of BertModel were not initialized from the model checkpoint at ../result/wiki_word_deletion_0.1 and are newly initialized: ['bert.pooler.dense.weight', 'bert.pooler.dense.bias']\n",
      "You should probably TRAIN this model on a down-stream task to be able to use it for predictions and inference.\n",
      "100%|██████████████████████████████████████████████████████████████████████████████| 135/135 [00:08<00:00, 16.12it/s]\n",
      "100%|██████████████████████████████████████████████████████████████████████████████| 135/135 [00:08<00:00, 16.70it/s]\n"
     ]
    },
    {
     "name": "stdout",
     "output_type": "stream",
     "text": [
      "wiki_word_deletion_0.1: align 0.19788984954357147\t\t uniform -2.3934266567230225\n"
     ]
    },
    {
     "name": "stderr",
     "output_type": "stream",
     "text": [
      "Some weights of BertModel were not initialized from the model checkpoint at ../result/wiki_word_deletion_0.2 and are newly initialized: ['bert.pooler.dense.weight', 'bert.pooler.dense.bias']\n",
      "You should probably TRAIN this model on a down-stream task to be able to use it for predictions and inference.\n",
      "100%|██████████████████████████████████████████████████████████████████████████████| 135/135 [00:08<00:00, 16.09it/s]\n",
      "100%|██████████████████████████████████████████████████████████████████████████████| 135/135 [00:08<00:00, 16.26it/s]\n"
     ]
    },
    {
     "name": "stdout",
     "output_type": "stream",
     "text": [
      "wiki_word_deletion_0.2: align 0.18668298423290253\t\t uniform -2.349052906036377\n"
     ]
    },
    {
     "name": "stderr",
     "output_type": "stream",
     "text": [
      "Some weights of BertModel were not initialized from the model checkpoint at ../result/wiki_word_deletion_0.3 and are newly initialized: ['bert.pooler.dense.weight', 'bert.pooler.dense.bias']\n",
      "You should probably TRAIN this model on a down-stream task to be able to use it for predictions and inference.\n",
      "100%|██████████████████████████████████████████████████████████████████████████████| 135/135 [00:08<00:00, 16.42it/s]\n",
      "100%|██████████████████████████████████████████████████████████████████████████████| 135/135 [00:08<00:00, 16.28it/s]\n"
     ]
    },
    {
     "name": "stdout",
     "output_type": "stream",
     "text": [
      "wiki_word_deletion_0.3: align 0.16986298561096191\t\t uniform -2.046895980834961\n"
     ]
    }
   ],
   "source": [
    "def eval_alignment_uniformity(model_path):\n",
    "    model = SimCSE(model_path)\n",
    "    all_embeddings_1 = model.encode(all_sentences_1)\n",
    "    all_embeddings_2 = model.encode(all_sentences_2)\n",
    "    \n",
    "    ok = (torch.Tensor(gs_scores) > 4).int()\n",
    "    align = _lalign(\n",
    "        all_embeddings_1, \n",
    "        all_embeddings_2, \n",
    "        ok).item()\n",
    "\n",
    "    # consider all sentences (from footnote 3)\n",
    "    unif = _lunif(torch.vstack([all_embeddings_1, all_embeddings_2])).item()\n",
    "    return align, unif\n",
    "\n",
    "results = {}\n",
    "for name, model_name in [\n",
    "    (\"Unsup. SimCSE\", \"bert_base\"),\n",
    "    (\"Delete One Word\", \"delete_one_word\"),\n",
    "    (\"Synonym Replacement\", \"synonym_replacement\"),\n",
    "    (\"No Dropout\", \"dropout_0\"),\n",
    "    (\"Crop 10%\", \"wiki_cropping_0.1\"),\n",
    "    (\"Crop 20%\", \"wiki_cropping_0.2\"),\n",
    "    (\"Crop 30%\", \"wiki_cropping_0.3\"),\n",
    "    (\"Word Deletion 10%\", \"wiki_word_deletion_0.1\"),\n",
    "    (\"Word Deletion 20%\", \"wiki_word_deletion_0.2\"),\n",
    "    (\"Word Deletion 30%\", \"wiki_word_deletion_0.3\")\n",
    "]:\n",
    "    result = []\n",
    "    if os.path.exists(str(Path(\"../result\") / f\"{model_name}_checkpoint_10\")):\n",
    "        for checkpoint in range(10, 101, 10):\n",
    "            align, unif = eval_alignment_uniformity(str(Path(\"../result\") / f\"{model_name}_checkpoint_{checkpoint}\"))\n",
    "            result.append((align, unif))\n",
    "            print(f'{model_name}_{checkpoint}: align {align}\\t\\t uniform {unif}')\n",
    "            \n",
    "    align, unif = eval_alignment_uniformity(str(Path(\"../result\") / model_name))\n",
    "    result.append((align, unif))\n",
    "    results[name] = result\n",
    "\n",
    "    print(f'{model_name}: align {align}\\t\\t uniform {unif}')"
   ]
  },
  {
   "cell_type": "code",
   "execution_count": 147,
   "id": "e05ef55c",
   "metadata": {
    "scrolled": false
   },
   "outputs": [
    {
     "data": {
      "image/png": "[encoded data removed]",
      "text/plain": [
       "<Figure size 640x480 with 1 Axes>"
      ]
     },
     "metadata": {},
     "output_type": "display_data"
    }
   ],
   "source": [
    "for name, result in results.items():\n",
    "    alignment = [_[0] for _ in result]\n",
    "    uniformity = [_[1] for _ in result]\n",
    "    plt.scatter(uniformity, alignment, label=name)\n",
    "    for i, (al, un) in enumerate(result[:-1]):\n",
    "        plt.annotate(i+1, (un, al))\n",
    "    plt.annotate(\"∞\", (result[-1][1], result[-1][0]))\n",
    "plt.grid(which='both')\n",
    "plt.legend(bbox_to_anchor=(1.5, 1))\n",
    "plt.xlabel(r\"$\\ell_{uniform}$\")\n",
    "plt.ylabel(r\"$\\ell_{align}$\")\n",
    "plt.savefig(\"align_unif_plot.pdf\")\n",
    "plt.show()"
   ]
  },
  {
   "cell_type": "code",
   "execution_count": null,
   "id": "64a484f1",
   "metadata": {},
   "outputs": [],
   "source": []
  }
 ],
 "metadata": {
  "kernelspec": {
   "display_name": "merl",
   "language": "python",
   "name": "merl"
  },
  "language_info": {
   "codemirror_mode": {
    "name": "ipython",
    "version": 3
   },
   "file_extension": ".py",
   "mimetype": "text/x-python",
   "name": "python",
   "nbconvert_exporter": "python",
   "pygments_lexer": "ipython3",
   "version": "3.9.12"
  }
 },
 "nbformat": 4,
 "nbformat_minor": 5
}
